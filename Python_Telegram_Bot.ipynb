{
  "nbformat": 4,
  "nbformat_minor": 0,
  "metadata": {
    "colab": {
      "name": "Python Telegram Bot.ipynb",
      "provenance": [],
      "authorship_tag": "ABX9TyNw7IsEUCUeqWDTt5TBmvxk",
      "include_colab_link": true
    },
    "kernelspec": {
      "name": "python3",
      "display_name": "Python 3"
    },
    "language_info": {
      "name": "python"
    }
  },
  "cells": [
    {
      "cell_type": "markdown",
      "metadata": {
        "id": "view-in-github",
        "colab_type": "text"
      },
      "source": [
        "<a href=\"https://colab.research.google.com/github/MinatoNami/LifeHack2021/blob/main/Python_Telegram_Bot.ipynb\" target=\"_parent\"><img src=\"https://colab.research.google.com/assets/colab-badge.svg\" alt=\"Open In Colab\"/></a>"
      ]
    },
    {
      "cell_type": "markdown",
      "metadata": {
        "id": "LkXVDigNolju"
      },
      "source": [
        "Installing dependencies for python telegram bot"
      ]
    },
    {
      "cell_type": "code",
      "metadata": {
        "colab": {
          "base_uri": "https://localhost:8080/"
        },
        "id": "eYKRvv_gohIQ",
        "outputId": "a58d4517-e1f0-43c6-d768-5ec576af4dd0"
      },
      "source": [
        "!pip install python-telegram-bot"
      ],
      "execution_count": 10,
      "outputs": [
        {
          "output_type": "stream",
          "text": [
            "Requirement already satisfied: python-telegram-bot in /usr/local/lib/python3.7/dist-packages (13.7)\n",
            "Requirement already satisfied: pytz>=2018.6 in /usr/local/lib/python3.7/dist-packages (from python-telegram-bot) (2018.9)\n",
            "Requirement already satisfied: APScheduler==3.6.3 in /usr/local/lib/python3.7/dist-packages (from python-telegram-bot) (3.6.3)\n",
            "Requirement already satisfied: cachetools==4.2.2 in /usr/local/lib/python3.7/dist-packages (from python-telegram-bot) (4.2.2)\n",
            "Requirement already satisfied: certifi in /usr/local/lib/python3.7/dist-packages (from python-telegram-bot) (2021.5.30)\n",
            "Requirement already satisfied: tornado>=6.1 in /usr/local/lib/python3.7/dist-packages (from python-telegram-bot) (6.1)\n",
            "Requirement already satisfied: setuptools>=0.7 in /usr/local/lib/python3.7/dist-packages (from APScheduler==3.6.3->python-telegram-bot) (57.2.0)\n",
            "Requirement already satisfied: six>=1.4.0 in /usr/local/lib/python3.7/dist-packages (from APScheduler==3.6.3->python-telegram-bot) (1.15.0)\n",
            "Requirement already satisfied: tzlocal>=1.2 in /usr/local/lib/python3.7/dist-packages (from APScheduler==3.6.3->python-telegram-bot) (1.5.1)\n"
          ],
          "name": "stdout"
        }
      ]
    },
    {
      "cell_type": "code",
      "metadata": {
        "id": "UWiD6U1_mujx"
      },
      "source": [
        "import logging\n",
        "import math\n",
        "\n",
        "from telegram import Update, ForceReply\n",
        "from telegram.ext import Updater, CommandHandler, MessageHandler, Filters, CallbackContext\n",
        "\n",
        "# Enable logging\n",
        "logging.basicConfig(\n",
        "    format='%(asctime)s - %(name)s - %(levelname)s - %(message)s', level=logging.INFO\n",
        ")\n",
        "\n",
        "logger = logging.getLogger(__name__)\n",
        "\n",
        "token = \"1947413326:AAHAN0rQrom9NlFPGYSUDk6GfXt5KAfFUpk\""
      ],
      "execution_count": 11,
      "outputs": []
    },
    {
      "cell_type": "code",
      "metadata": {
        "id": "n91GDLArprgG"
      },
      "source": [
        "# Define a few command handlers. These usually take the two arguments update and\n",
        "# context.\n",
        "def start(update: Update, _: CallbackContext) -> None:\n",
        "    \"\"\"Send a message when the command /start is issued.\"\"\"\n",
        "    user = update.effective_user\n",
        "    update.message.reply_text(f'Hi {user.first_name} {user.last_name}!')"
      ],
      "execution_count": 12,
      "outputs": []
    },
    {
      "cell_type": "code",
      "metadata": {
        "id": "PxFHtnHupv9F"
      },
      "source": [
        "def help_command(update: Update, _: CallbackContext) -> None:\n",
        "    \"\"\"Send a message when the command /help is issued.\"\"\"\n",
        "    update.message.reply_text('Help!')"
      ],
      "execution_count": 13,
      "outputs": []
    },
    {
      "cell_type": "code",
      "metadata": {
        "id": "WNqIMo9lp1Dq"
      },
      "source": [
        "def echo(update: Update, _: CallbackContext) -> None:\n",
        "    \"\"\"Echo the user message.\"\"\"\n",
        "    update.message.reply_text(f\"you said {update.message.text}\")"
      ],
      "execution_count": 14,
      "outputs": []
    },
    {
      "cell_type": "code",
      "metadata": {
        "colab": {
          "base_uri": "https://localhost:8080/"
        },
        "id": "Y5Tjb6dQp4PG",
        "outputId": "147e342d-e597-464b-b169-6fa7caf736f6"
      },
      "source": [
        "def main() -> None:\n",
        "    \"\"\"Start the bot.\"\"\"\n",
        "    # Create the Updater and pass it your bot's token.\n",
        "    updater = Updater(token)\n",
        "\n",
        "    # Get the dispatcher to register handlers\n",
        "    dispatcher = updater.dispatcher\n",
        "\n",
        "    # on different commands - answer in Telegram\n",
        "    dispatcher.add_handler(CommandHandler(\"start\", start))\n",
        "    dispatcher.add_handler(CommandHandler(\"help\", help_command))\n",
        "\n",
        "    # on non command i.e message - echo the message on Telegram\n",
        "    dispatcher.add_handler(MessageHandler(Filters.text, echo))\n",
        "\n",
        "    # Start the Bot\n",
        "    updater.start_polling()\n",
        "\n",
        "    # Run the bot until you press Ctrl-C or the process receives SIGINT,\n",
        "    # SIGTERM or SIGABRT. This should be used most of the time, since\n",
        "    # start_polling() is non-blocking and will stop the bot gracefully.\n",
        "    updater.idle()\n",
        "\n",
        "\n",
        "if __name__ == '__main__':\n",
        "    main()"
      ],
      "execution_count": null,
      "outputs": [
        {
          "output_type": "stream",
          "text": [
            "2021-07-20 11:23:51,279 - apscheduler.scheduler - INFO - Scheduler started\n"
          ],
          "name": "stderr"
        }
      ]
    }
  ]
}